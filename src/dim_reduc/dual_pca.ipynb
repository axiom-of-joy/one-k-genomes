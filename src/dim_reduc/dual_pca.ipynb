{
 "cells": [
  {
   "cell_type": "markdown",
   "metadata": {},
   "source": [
    "# Dual PCA\n",
    "\n",
    "This notebook uses dual PCA to reduce the dimension of the genomic data for the 1000 Genomes Project dataset. It requires the pairwise squared Euclidean distance matrix \\\\(D_{\\mathrm{sq}}\\\\) for the dataset.\n",
    "\n",
    "## Define Dual PCA\n",
    "\n",
    "The Gram matrix \\\\(XX^T\\\\) for the linear kernel is given by the formula\n",
    "\n",
    "\\\\[\n",
    "XX^T = \\left(I_m - \\frac{\\mathbf 1_{m\\times m}}{m}\\right) \\left(\\frac{D_\\mathrm{sq}}{2}\\right) \\left(I_m - \\frac{\\mathbf 1_{m\\times m}}{m}\\right),\n",
    "\\\\]\n",
    "\n",
    "where \\\\(I_m \\in \\mathbb R^{m \\times m}\\\\) is the identity matrix and \\\\(\\mathbf 1_{m \\times m} \\in \\mathbb R^{m \\times m}\\\\) is the matrix with entries equal to 1."
   ]
  },
  {
   "cell_type": "code",
   "execution_count": null,
   "metadata": {},
   "outputs": [],
   "source": [
    "import numpy as np\n",
    "from numpy.linalg import svd\n",
    "\n",
    "def dual_pca(D_sq):\n",
    "    m = D_sq.shape[0]\n",
    "    A = np.eye(m) - 1 / m\n",
    "    gram = -A @ (D_sq / 2) @ A\n",
    "    U, Sigma_sq, _ = svd(gram)\n",
    "    Sigma = np.diag(np.sqrt(Sigma_sq))\n",
    "    return U @ Sigma"
   ]
  },
  {
   "cell_type": "markdown",
   "metadata": {},
   "source": [
    "## All Chromosomes\n",
    "\n",
    "Load the pairwise squared Euclidean distance matrix for all chromosomes (including sex chromosomes). Compute the complete PCA and save to disk."
   ]
  },
  {
   "cell_type": "code",
   "execution_count": null,
   "metadata": {},
   "outputs": [],
   "source": [
    "PATH = \"/home/ubuntu/one-k-genomes/\"\n",
    "D_sq = np.load(PATH + \"data/pdist/summed_mats/pdist_all.npy\")\n",
    "embedded = dual_pca(D_sq)\n",
    "save_file = PATH + \"data/dim_reduc/complete_pca/embedded_all.npy\"\n",
    "np.save(save_file, embedded)"
   ]
  },
  {
   "cell_type": "markdown",
   "metadata": {},
   "source": [
    "## Omit Sex Chromosomes\n",
    "\n",
    "Do the same as above, but omit the sex chromosomes."
   ]
  },
  {
   "cell_type": "code",
   "execution_count": null,
   "metadata": {},
   "outputs": [],
   "source": [
    "D_sq = np.load(PATH + \"data/pdist/summed_mats/pdist_num.npy\")\n",
    "embedded = dual_pca(D_sq)\n",
    "save_file = PATH + \"data/dim_reduc/complete_pca/embedded_num.npy\"\n",
    "np.save(save_file, embedded)"
   ]
  }
 ],
 "metadata": {
  "kernelspec": {
   "display_name": "Python 3",
   "language": "python",
   "name": "python3"
  },
  "language_info": {
   "codemirror_mode": {
    "name": "ipython",
    "version": 3
   },
   "file_extension": ".py",
   "mimetype": "text/x-python",
   "name": "python",
   "nbconvert_exporter": "python",
   "pygments_lexer": "ipython3",
   "version": "3.6.7"
  }
 },
 "nbformat": 4,
 "nbformat_minor": 2
}
