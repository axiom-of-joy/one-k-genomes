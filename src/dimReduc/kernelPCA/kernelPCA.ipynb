{
 "cells": [
  {
   "cell_type": "code",
   "execution_count": null,
   "metadata": {},
   "outputs": [],
   "source": [
    "import pandas as pd\n",
    "import numpy as np\n",
    "from sklearn.decomposition import KernelPCA\n",
    "\n",
    "path = \"/home/ubuntu/onekgenomes/\"\n",
    "sampleDataFile = \"data/sampleData/sampleData.tsv\"\n",
    "df = pd.read_csv(path + sampleDataFile, sep='\\t', index_col=0)"
   ]
  },
  {
   "cell_type": "code",
   "execution_count": null,
   "metadata": {},
   "outputs": [],
   "source": [
    "pops = df[\"Population\"].tolist()\n",
    "uniquePops = list(set(pops))\n",
    "uniquePops.sort()\n",
    "numSamples = len(pops)\n",
    "targetDict = dict(zip(uniquePops, range(numSamples)))\n",
    "Y = np.array([targetDict[pop] for pop in pops])"
   ]
  },
  {
   "cell_type": "code",
   "execution_count": null,
   "metadata": {},
   "outputs": [],
   "source": [
    "superPops = df[\"Super Population\"].tolist()\n",
    "uniquePops = list(set(superPops))\n",
    "uniquePops.sort()\n",
    "numSamples = len(superPops)\n",
    "targetDict = dict(zip(uniquePops, range(numSamples)))\n",
    "Y = np.array([targetDict[p] for p in superPops])"
   ]
  },
  {
   "cell_type": "code",
   "execution_count": null,
   "metadata": {},
   "outputs": [],
   "source": [
    "genders = df[\"Gender\"]\n",
    "G = (genders == \"male\").values"
   ]
  },
  {
   "cell_type": "code",
   "execution_count": null,
   "metadata": {},
   "outputs": [],
   "source": [
    "pdistMat = np.load(path + \"data/pdist/summedMats/pdistAll.npy\")\n",
    "sigmaSq = np.quantile(pdistMat.reshape(-1), 0.1)\n",
    "gamma = 1 / (2 * sigmaSq)\n",
    "K_all = np.exp(-gamma * pdistMat)\n",
    "numComp = 4\n",
    "embedding = KernelPCA(kernel=\"precomputed\", n_components=numComp)\n",
    "embeddedData = embedding.fit_transform(K_all)\n",
    "embeddedData.shape\n",
    "x, y, z, w = np.hsplit(embeddedData, numComp)"
   ]
  },
  {
   "cell_type": "code",
   "execution_count": null,
   "metadata": {},
   "outputs": [],
   "source": [
    "pdistMat = np.load(path + \"data/pdist/summedMats/pdistNum.npy\")\n",
    "sigmaSq = np.quantile(pdistMat.reshape(-1), 0.1)\n",
    "gamma = 1 / (2 * sigmaSq)\n",
    "K_num = np.exp(-gamma * pdistMat)\n",
    "numComp = 4\n",
    "embedding = KernelPCA(kernel=\"precomputed\", n_components=numComp)\n",
    "embeddedData = embedding.fit_transform(K_num)\n",
    "embeddedData.shape\n",
    "x1, y1, z1, w1 = np.hsplit(embeddedData, numComp)"
   ]
  },
  {
   "cell_type": "code",
   "execution_count": null,
   "metadata": {},
   "outputs": [],
   "source": [
    "%matplotlib notebook\n",
    "import matplotlib.pyplot as plt\n",
    "import matplotlib.cm as cm\n",
    "from mpl_toolkits.mplot3d import Axes3D\n",
    "\n",
    "fig = plt.figure()\n",
    "ax1 = fig.add_subplot(221, projection=\"3d\")\n",
    "cmap = cm.rainbow(Y / np.max(Y))\n",
    "ax1.scatter(x, y, z, c=cmap)\n",
    "ax2 = fig.add_subplot(222, projection=\"3d\")\n",
    "genderCmap = np.zeros((numSamples,))\n",
    "genderCmap[G] = 1\n",
    "ax2.scatter(x, y, z, c=genderCmap)\n",
    "ax3 = fig.add_subplot(223, projection=\"3d\")\n",
    "ax3.scatter(x1, y1, z1, c=cmap)"
   ]
  },
  {
   "cell_type": "code",
   "execution_count": null,
   "metadata": {},
   "outputs": [],
   "source": [
    "%matplotlib notebook\n",
    "import matplotlib.pyplot as plt\n",
    "import matplotlib.cm as cm\n",
    "\n",
    "fig2 = plt.figure()\n",
    "ax4 = fig2.add_subplot(121)\n",
    "cmap = cm.rainbow(Y / np.max(Y))\n",
    "ax4.scatter(y,z, c=cmap)\n",
    "ax4.set_xlim(-0.0015,0.0015)\n",
    "ax4.set_ylim(-0.0015,0.0015)\n",
    "ax5 = fig2.add_subplot(122)\n",
    "ax5.scatter(x1, y1, c=cmap)\n",
    "ax5.set_xlim(-0.0015,0.0015)\n",
    "ax5.set_ylim(-0.0015,0.0015)"
   ]
  },
  {
   "cell_type": "code",
   "execution_count": 1,
   "metadata": {},
   "outputs": [],
   "source": [
    "import numpy as np\n",
    "from sklearn.decomposition import KernelPCA"
   ]
  },
  {
   "cell_type": "code",
   "execution_count": 2,
   "metadata": {},
   "outputs": [],
   "source": [
    "path = \"/home/ubuntu/onekgenomes/\"\n",
    "pdistMat = np.load(path + \"data/pdist/summedMats/pdistAll.npy\")\n",
    "sigmaSq = np.quantile(pdistMat.reshape(-1), 0.5)\n",
    "gamma = 1 / (2 * sigmaSq)\n",
    "K = np.exp(-gamma * pdistMat)\n",
    "numComp = 3\n",
    "embedding = KernelPCA(kernel=\"precomputed\", n_components=numComp)\n",
    "embedded = embedding.fit_transform(K)\n",
    "saveFile = path + \"data/dimReduc/kernelPCA/embeddedAll.npy\"\n",
    "np.save(saveFile, embedded)"
   ]
  },
  {
   "cell_type": "code",
   "execution_count": 3,
   "metadata": {},
   "outputs": [],
   "source": [
    "pdistMat = np.load(path + \"data/pdist/summedMats/pdistNum.npy\")\n",
    "sigmaSq = np.quantile(pdistMat.reshape(-1), 0.5)\n",
    "gamma = 1 / (2 * sigmaSq)\n",
    "K = np.exp(-gamma * pdistMat)\n",
    "numComp = 3\n",
    "embedding = KernelPCA(kernel=\"precomputed\", n_components=numComp)\n",
    "embedded = embedding.fit_transform(K)\n",
    "saveFile = path + \"data/dimReduc/kernelPCA/embeddedNum.npy\"\n",
    "np.save(saveFile, embedded)"
   ]
  }
 ],
 "metadata": {
  "kernelspec": {
   "display_name": "Python 3",
   "language": "python",
   "name": "python3"
  },
  "language_info": {
   "codemirror_mode": {
    "name": "ipython",
    "version": 3
   },
   "file_extension": ".py",
   "mimetype": "text/x-python",
   "name": "python",
   "nbconvert_exporter": "python",
   "pygments_lexer": "ipython3",
   "version": "3.6.7"
  }
 },
 "nbformat": 4,
 "nbformat_minor": 2
}
