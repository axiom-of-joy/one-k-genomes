{
 "cells": [
  {
   "cell_type": "code",
   "execution_count": null,
   "metadata": {},
   "outputs": [],
   "source": [
    "import pandas as pd\n",
    "import numpy as np\n",
    "from sklearn.manifold import MDS\n",
    "\n",
    "path = \"/home/ubuntu/onekgenomes/\"\n",
    "sampleDataFile = \"data/sampleData/sampleData.tsv\"\n",
    "df = pd.read_csv(path + sampleDataFile, sep='\\t', index_col=0)"
   ]
  },
  {
   "cell_type": "code",
   "execution_count": null,
   "metadata": {},
   "outputs": [],
   "source": [
    "pops = df[\"Population\"].tolist()\n",
    "uniquePops = list(set(pops))\n",
    "uniquePops.sort()\n",
    "numSamples = len(pops)\n",
    "targetDict = dict(zip(uniquePops, range(numSamples)))\n",
    "Y = np.array([targetDict[pop] for pop in pops])"
   ]
  },
  {
   "cell_type": "code",
   "execution_count": null,
   "metadata": {},
   "outputs": [],
   "source": [
    "superPops = df[\"Super Population\"].tolist()\n",
    "uniquePops = list(set(superPops))\n",
    "uniquePops.sort()\n",
    "numSamples = len(superPops)\n",
    "targetDict = dict(zip(uniquePops, range(numSamples)))\n",
    "Y = np.array([targetDict[p] for p in superPops])"
   ]
  },
  {
   "cell_type": "code",
   "execution_count": null,
   "metadata": {},
   "outputs": [],
   "source": [
    "genders = df[\"Gender\"]\n",
    "G = (genders == \"male\").values"
   ]
  },
  {
   "cell_type": "code",
   "execution_count": null,
   "metadata": {},
   "outputs": [],
   "source": [
    "pdistMat = np.load(path + \"data/pdist/summedMats/pdistAll.npy\")\n",
    "D_all = np.sqrt(pdistMat)\n",
    "print(\"A\")\n",
    "numComp = 4\n",
    "embedding = MDS(dissimilarity=\"precomputed\", n_components=numComp)\n",
    "embeddedData = embedding.fit_transform(D_all)\n",
    "print(embeddedData.shape)\n",
    "x, y, z, w = np.hsplit(embeddedData, numComp)"
   ]
  },
  {
   "cell_type": "code",
   "execution_count": null,
   "metadata": {},
   "outputs": [],
   "source": [
    "pdistMat = np.load(path + \"data/pdist/summedMats/pdistNum.npy\")\n",
    "D_num = np.sqrt(pdistMat)\n",
    "numComp = 3\n",
    "embedding = MDS(dissimilarity=\"precomputed\", n_components=numComp)\n",
    "embeddedData = embedding.fit_transform(D_num)\n",
    "embeddedData.shape\n",
    "x1, y1, z1 = np.hsplit(embeddedData, numComp)"
   ]
  },
  {
   "cell_type": "code",
   "execution_count": null,
   "metadata": {},
   "outputs": [],
   "source": [
    "%matplotlib notebook\n",
    "import matplotlib.pyplot as plt\n",
    "import matplotlib.cm as cm\n",
    "from mpl_toolkits.mplot3d import Axes3D\n",
    "\n",
    "fig = plt.figure()\n",
    "ax1 = fig.add_subplot(221, projection=\"3d\")\n",
    "cmap = cm.rainbow(Y / np.max(Y))\n",
    "ax1.scatter(x, y, z, c=cmap)\n",
    "ax2 = fig.add_subplot(222, projection=\"3d\")\n",
    "genderCmap = np.zeros((numSamples,))\n",
    "genderCmap[G] = 1\n",
    "ax2.scatter(x, y, z, c=genderCmap)\n",
    "\n",
    "\"\"\"ax3 = fig.add_subplot(223, projection=\"3d\")\n",
    "ax3.scatter(x1, y1, z1, c=cmap)\n",
    "\n",
    "fig = plt.figure()\n",
    "ax = fig.add_subplot(111)\n",
    "cmap = cm.rainbow(Y / np.max(Y))\n",
    "ax.scatter(x, y, c=cmap)\"\"\""
   ]
  },
  {
   "cell_type": "code",
   "execution_count": null,
   "metadata": {},
   "outputs": [],
   "source": [
    "%matplotlib notebook\n",
    "import matplotlib.pyplot as plt\n",
    "import matplotlib.cm as cm\n",
    "\n",
    "fig2 = plt.figure()\n",
    "ax4 = fig2.add_subplot(121)\n",
    "cmap = cm.rainbow(Y / np.max(Y))\n",
    "ax4.scatter(y,z, c=cmap)\n",
    "ax4.set_xlim(-0.0015,0.0015)\n",
    "ax4.set_ylim(-0.0015,0.0015)\n",
    "ax5 = fig2.add_subplot(122)\n",
    "ax5.scatter(x1, y1, c=cmap)\n",
    "ax5.set_xlim(-0.0015,0.0015)\n",
    "ax5.set_ylim(-0.0015,0.0015)"
   ]
  },
  {
   "cell_type": "code",
   "execution_count": null,
   "metadata": {},
   "outputs": [],
   "source": [
    "from numpy.linalg import svd\n",
    "\n",
    "D_sq = pdistMat\n",
    "n = numSamples\n",
    "K_c = -(np.eye(n) - np.ones((n, n)) / n) @ D_sq @ (np.eye(n) - np.ones((n, n)) / n)\n",
    "U, S, _ = svd(K_c)"
   ]
  },
  {
   "cell_type": "code",
   "execution_count": null,
   "metadata": {},
   "outputs": [],
   "source": [
    "S = np.diag(S)\n",
    "A = U @ S\n",
    "numComp = 3\n",
    "x, y, z = np.hsplit(A[:,:numComp], numComp)"
   ]
  },
  {
   "cell_type": "markdown",
   "metadata": {},
   "source": [
    "Drafting the script:"
   ]
  },
  {
   "cell_type": "code",
   "execution_count": null,
   "metadata": {},
   "outputs": [],
   "source": [
    "import pandas as pd\n",
    "import numpy as np\n",
    "\n",
    "def processList(lst):\n",
    "    numSamples = len(pops)\n",
    "    uniqueElems = list(set(lst))\n",
    "    uniqueElems.sort()\n",
    "    targetDict = dict(zip(uniqueElems, range(numSamples)))\n",
    "    return np.array([targetDict[elem] for elem in lst])\n",
    "\n",
    "path = \"/home/ubuntu/onekgenomes/\"\n",
    "sampleDataFile = \"data/sampleData/sampleData.tsv\"\n",
    "df = pd.read_csv(path + sampleDataFile, sep='\\t', index_col=0)\n",
    "pops, superPops = processList(df[\"Population\"].tolist()), processList(df[\"Super Population\"].tolist())\n"
   ]
  },
  {
   "cell_type": "code",
   "execution_count": null,
   "metadata": {},
   "outputs": [],
   "source": [
    "import numpy as np\n",
    "from numpy.linalg import svd\n",
    "\n",
    "def dual_pca(D_sq, k):\n",
    "    m = D_sq.shape[0]\n",
    "    gram = -(np.eye(m) - 1 / m) @ D_sq @ (np.eye(m) - 1 / m)\n",
    "    U, Sigma_sq, _ = svd(gram)\n",
    "    Sigma_k = np.sqrt(Sigma_sq[:k])\n",
    "    return U[:,:k] * Sigma_k"
   ]
  },
  {
   "cell_type": "code",
   "execution_count": 1,
   "metadata": {},
   "outputs": [],
   "source": [
    "import numpy as np\n",
    "from numpy.linalg import svd\n",
    "\n",
    "def complete_pca(D_sq):\n",
    "    m = D_sq.shape[0]\n",
    "    gram = -(np.eye(m) - 1 / m) @ (D_sq / 2) @ (np.eye(m) - 1 / m)\n",
    "    U, Sigma_sq, _ = svd(gram)\n",
    "    Sigma = np.diag(np.sqrt(Sigma_sq))\n",
    "    return U @ Sigma"
   ]
  },
  {
   "cell_type": "code",
   "execution_count": 2,
   "metadata": {},
   "outputs": [],
   "source": [
    "path = \"/home/ubuntu/onekgenomes/\"\n",
    "D_sq = np.load(path + \"data/pdist/summedMats/pdistAll.npy\")\n",
    "embedded = complete_pca(D_sq)\n",
    "saveFile = path + \"data/dimReduc/completePCA/embeddedAll.npy\"\n",
    "np.save(saveFile, embedded)"
   ]
  },
  {
   "cell_type": "code",
   "execution_count": 3,
   "metadata": {},
   "outputs": [],
   "source": [
    "path = \"/home/ubuntu/onekgenomes/\"\n",
    "D_sq = np.load(path + \"data/pdist/summedMats/pdistNum.npy\")\n",
    "embedded = complete_pca(D_sq)\n",
    "saveFile = path + \"data/dimReduc/completePCA/embeddedNum.npy\"\n",
    "np.save(saveFile, embedded)"
   ]
  },
  {
   "cell_type": "code",
   "execution_count": null,
   "metadata": {},
   "outputs": [],
   "source": [
    "path = \"/home/ubuntu/onekgenomes/\"\n",
    "D_sq = np.load(path + \"data/pdist/summedMats/pdistAll.npy\")\n",
    "numComp = 3\n",
    "embedded = dual_pca(D_sq, numComp)\n",
    "saveFile = path + \"data/dimReduc/dualPCA/embeddedAll.npy\"\n",
    "np.save(saveFile, embedded)"
   ]
  },
  {
   "cell_type": "code",
   "execution_count": null,
   "metadata": {},
   "outputs": [],
   "source": [
    "D_sq = np.load(path + \"data/pdist/summedMats/pdistNum.npy\")\n",
    "numComp = 3\n",
    "embedded = dual_pca(D_sq, numComp)\n",
    "saveFile = path + \"data/dimReduc/dualPCA/embeddedNum.npy\"\n",
    "np.save(saveFile, embedded)"
   ]
  }
 ],
 "metadata": {
  "kernelspec": {
   "display_name": "Python 3",
   "language": "python",
   "name": "python3"
  },
  "language_info": {
   "codemirror_mode": {
    "name": "ipython",
    "version": 3
   },
   "file_extension": ".py",
   "mimetype": "text/x-python",
   "name": "python",
   "nbconvert_exporter": "python",
   "pygments_lexer": "ipython3",
   "version": "3.6.7"
  }
 },
 "nbformat": 4,
 "nbformat_minor": 2
}
