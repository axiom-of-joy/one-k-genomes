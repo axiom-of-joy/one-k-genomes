{
 "cells": [
  {
   "cell_type": "code",
   "execution_count": 1,
   "metadata": {},
   "outputs": [],
   "source": [
    "import pandas as pd\n",
    "import numpy as np\n",
    "\n",
    "path = \"/home/ubuntu/onekgenomes/\"\n",
    "sampleDataFile = \"data/sampleData/sampleData.tsv\"\n",
    "df = pd.read_csv(path + sampleDataFile, sep='\\t', index_col=0)"
   ]
  },
  {
   "cell_type": "code",
   "execution_count": 2,
   "metadata": {},
   "outputs": [],
   "source": [
    "pops = df[\"Population\"].tolist()\n",
    "uniquePops = list(set(pops))\n",
    "uniquePops.sort()\n",
    "numSamples = len(pops)\n",
    "targetDict = dict(zip(uniquePops, range(numSamples)))\n",
    "Y = np.array([targetDict[pop] for pop in pops])"
   ]
  },
  {
   "cell_type": "code",
   "execution_count": null,
   "metadata": {},
   "outputs": [],
   "source": [
    "superPops = df[\"Super Population\"].tolist()\n",
    "uniquePops = list(set(superPops))\n",
    "uniquePops.sort()\n",
    "numSamples = len(superPops)\n",
    "targetDict = dict(zip(uniquePops, range(numSamples)))\n",
    "Y = np.array([targetDict[p] for p in superPops])"
   ]
  },
  {
   "cell_type": "code",
   "execution_count": 9,
   "metadata": {},
   "outputs": [
    {
     "name": "stdout",
     "output_type": "stream",
     "text": [
      "accuracy score: 0.904\n"
     ]
    }
   ],
   "source": [
    "from sklearn.datasets import load_digits\n",
    "from sklearn.svm import SVC\n",
    "from sklearn.utils import shuffle\n",
    "from sklearn.metrics import accuracy_score\n",
    "\n",
    "\n",
    "\n",
    "\n",
    "\n",
    "# Compute linear kernel.\n",
    "from numpy.linalg import svd\n",
    "pdistFile = path + \"data/pdist/summedMats/pdistAll.npy\"\n",
    "D_sq = np.load(pdistFile)\n",
    "numSamples = D_sq.shape[0]\n",
    "n = numSamples\n",
    "K = -(np.eye(n) - np.ones((n, n)) / n) @ D_sq @ (np.eye(n) - np.ones((n, n)) / n)\n",
    "\n",
    "\n",
    "\n",
    "# Randomly permute data.\n",
    "np.random.seed(0)\n",
    "randPerm = np.random.permutation(numSamples)\n",
    "K = K[randPerm, :]\n",
    "K = K[:, randPerm]\n",
    "Y = Y[randPerm]\n",
    "\n",
    "# Define classifier with precomputed kernel.\n",
    "svc = SVC(kernel='precomputed')\n",
    "\n",
    "# Training and test sets.\n",
    "numTrain = round(0.8 * numSamples)\n",
    "K_train, K_test = K[:numTrain,:numTrain], K[numTrain:,:numTrain]\n",
    "Y_train, Y_test = Y[:numTrain], Y[numTrain:]\n",
    "\n",
    "\n",
    "svc.fit(K_train, Y_train)\n",
    "\n",
    "Y_pred = svc.predict(K_test)\n",
    "print('accuracy score: %0.3f' % accuracy_score(Y_test, Y_pred))"
   ]
  }
 ],
 "metadata": {
  "kernelspec": {
   "display_name": "Python 3",
   "language": "python",
   "name": "python3"
  },
  "language_info": {
   "codemirror_mode": {
    "name": "ipython",
    "version": 3
   },
   "file_extension": ".py",
   "mimetype": "text/x-python",
   "name": "python",
   "nbconvert_exporter": "python",
   "pygments_lexer": "ipython3",
   "version": "3.6.7"
  }
 },
 "nbformat": 4,
 "nbformat_minor": 2
}
