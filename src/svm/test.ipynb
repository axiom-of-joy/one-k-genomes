{
 "cells": [
  {
   "cell_type": "code",
   "execution_count": 1,
   "metadata": {},
   "outputs": [],
   "source": [
    "import pandas as pd\n",
    "import numpy as np\n",
    "\n",
    "path = \"/home/ubuntu/onekgenomes/\"\n",
    "sampleDataFile = \"data/sampleData/sampleData.tsv\"\n",
    "df = pd.read_csv(path + sampleDataFile, sep='\\t', index_col=0)"
   ]
  },
  {
   "cell_type": "code",
   "execution_count": 2,
   "metadata": {},
   "outputs": [],
   "source": [
    "pops = df[\"Population\"].tolist()\n",
    "uniquePops = list(set(pops))\n",
    "uniquePops.sort()\n",
    "numSamples = len(pops)\n",
    "targetDict = dict(zip(uniquePops, range(numSamples)))\n",
    "Y = np.array([targetDict[pop] for pop in pops])"
   ]
  },
  {
   "cell_type": "code",
   "execution_count": 29,
   "metadata": {},
   "outputs": [],
   "source": [
    "superPops = df[\"Super Population\"].tolist()\n",
    "uniquePops = list(set(superPops))\n",
    "uniquePops.sort()\n",
    "numSamples = len(superPops)\n",
    "targetDict = dict(zip(uniquePops, range(numSamples)))\n",
    "Y = np.array([targetDict[p] for p in superPops])"
   ]
  },
  {
   "cell_type": "code",
   "execution_count": 30,
   "metadata": {},
   "outputs": [
    {
     "name": "stdout",
     "output_type": "stream",
     "text": [
      "accuracy score: 0.996\n"
     ]
    }
   ],
   "source": [
    "from sklearn.datasets import load_digits\n",
    "from sklearn.svm import SVC\n",
    "from sklearn.utils import shuffle\n",
    "from sklearn.metrics import accuracy_score\n",
    "# Import the Laplacian Kernel.\n",
    "import sys\n",
    "sys.path.insert(0, path + \"src/kernel\")\n",
    "from kernel import laplacianKernel\n",
    "\n",
    "\n",
    "# Compute Laplacian kernel from pairwise distance matrix.\n",
    "pdistFile = path + \"data/pdist/summedMats/pdistAll.npy\"\n",
    "gamma = 1 / 2929616\n",
    "K = laplacianKernel(gamma, pdistFile)\n",
    "numSamples = K.shape[0]\n",
    "\n",
    "# Randomly permute data.\n",
    "np.random.seed(0)\n",
    "randPerm = np.random.permutation(numSamples)\n",
    "K = K[randPerm, :]\n",
    "K = K[:, randPerm]\n",
    "Y = Y[randPerm]\n",
    "\n",
    "# Define classifier with precomputed kernel.\n",
    "svc = SVC(kernel='precomputed')\n",
    "\n",
    "# Training and test sets.\n",
    "numTrain = round(0.8 * numSamples)\n",
    "K_train, K_test = K[:numTrain,:numTrain], K[numTrain:,:numTrain]\n",
    "Y_train, Y_test = Y[:numTrain], Y[numTrain:]\n",
    "\n",
    "\n",
    "svc.fit(K_train, Y_train)\n",
    "\n",
    "Y_pred = svc.predict(K_test)\n",
    "print('accuracy score: %0.3f' % accuracy_score(Y_test, Y_pred))"
   ]
  },
  {
   "cell_type": "code",
   "execution_count": null,
   "metadata": {},
   "outputs": [],
   "source": [
    "from sklearn.datasets import load_digits\n",
    "from sklearn.svm import SVC\n",
    "from sklearn.utils import shuffle\n",
    "from sklearn.metrics import accuracy_score\n",
    "import numpy as np\n",
    "\n",
    "\n",
    "digits = load_digits()\n",
    "X, y = shuffle(digits.data, digits.target)\n",
    "X_train, X_test = X[:1000, :], X[100:, :]\n",
    "y_train, y_test = y[:1000], y[100:]\n",
    "\n",
    "svc = SVC(kernel='precomputed')\n",
    "\n",
    "kernel_train = np.dot(X_train, X_train.T)  # linear kernel\n",
    "\n",
    "svc.fit(kernel_train, y_train)\n",
    "\n",
    "#kernel_test = np.dot(X_test, X_train[svc.support_, :].T)\n",
    "kernel_test = np.dot(X_test, X_train.T)\n",
    "y_pred = svc.predict(kernel_test)\n",
    "print('accuracy score: %0.3f' % accuracy_score(y_test, y_pred))"
   ]
  },
  {
   "cell_type": "code",
   "execution_count": 26,
   "metadata": {},
   "outputs": [
    {
     "data": {
      "text/plain": [
       "2929616.5"
      ]
     },
     "execution_count": 26,
     "metadata": {},
     "output_type": "execute_result"
    }
   ],
   "source": [
    "pdistMat = np.load(path + \"data/pdist/summedMats/pdistAll.npy\")\n",
    "np.quantile(pdistMat.reshape(-1), 0.1)"
   ]
  },
  {
   "cell_type": "code",
   "execution_count": 23,
   "metadata": {},
   "outputs": [
    {
     "data": {
      "text/plain": [
       "[0,\n",
       " 1,\n",
       " 2,\n",
       " 3,\n",
       " 4,\n",
       " 5,\n",
       " 6,\n",
       " 7,\n",
       " 8,\n",
       " 9,\n",
       " 10,\n",
       " 11,\n",
       " 12,\n",
       " 13,\n",
       " 14,\n",
       " 15,\n",
       " 16,\n",
       " 17,\n",
       " 18,\n",
       " 19,\n",
       " 20,\n",
       " 21,\n",
       " 22,\n",
       " 23,\n",
       " 24,\n",
       " 25]"
      ]
     },
     "execution_count": 23,
     "metadata": {},
     "output_type": "execute_result"
    }
   ],
   "source": [
    "list(set(Y.tolist()))\n"
   ]
  }
 ],
 "metadata": {
  "kernelspec": {
   "display_name": "Python 3",
   "language": "python",
   "name": "python3"
  },
  "language_info": {
   "codemirror_mode": {
    "name": "ipython",
    "version": 3
   },
   "file_extension": ".py",
   "mimetype": "text/x-python",
   "name": "python",
   "nbconvert_exporter": "python",
   "pygments_lexer": "ipython3",
   "version": "3.6.7"
  }
 },
 "nbformat": 4,
 "nbformat_minor": 2
}
