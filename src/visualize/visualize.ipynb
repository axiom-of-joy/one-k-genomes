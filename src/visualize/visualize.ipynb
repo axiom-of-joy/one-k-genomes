{
 "cells": [
  {
   "cell_type": "code",
   "execution_count": 30,
   "metadata": {},
   "outputs": [
    {
     "data": {
      "text/plain": [
       "'African Ancestry in Southwest US'"
      ]
     },
     "execution_count": 30,
     "metadata": {},
     "output_type": "execute_result"
    }
   ],
   "source": [
    "import pandas as pd\n",
    "import numpy as np\n",
    "import plotly.plotly as py\n",
    "import plotly.graph_objs as go\n",
    "import matplotlib.cm\n",
    "\n",
    "# Path to project directory.\n",
    "path = \"/home/ubuntu/onekgenomes/\"\n",
    "\n",
    "# Get population to super population dictionary.\n",
    "sampleDataFile = \"data/sampleData/populations.tsv\"\n",
    "df = pd.read_csv(path + sampleDataFile, sep='\\t', index_col=1)\n",
    "df.dropna(inplace=True)\n",
    "pops = df.index.tolist()\n",
    "descriptions = df[\"Population Description\"].tolist()\n",
    "superPops = df[\"Super Population\"].tolist()\n",
    "\n",
    "# Create dictionaries mapping populations to descriptions and super populations.\n",
    "pop2superPopDict = dict(zip(pops, superPops))\n",
    "pop2descripDict = dict(zip(pops, descriptions))"
   ]
  },
  {
   "cell_type": "code",
   "execution_count": 31,
   "metadata": {},
   "outputs": [],
   "source": [
    "sampleDataFile = \"data/sampleData/sampleData.tsv\"\n",
    "df = pd.read_csv(path + sampleDataFile, sep='\\t', index_col=0)\n",
    "\n",
    "# Populations.\n",
    "pops = df[\"Population\"].tolist()\n",
    "uniquePops = list(set(pops))\n",
    "uniquePops.sort()\n",
    "numPops = len(pops)\n",
    "targetDict = dict(zip(uniquePops, range(numPops)))\n",
    "popArray = np.array([targetDict[p] for p in pops])\n",
    "\n",
    "# Super Populations.\n",
    "superPops = df[\"Super Population\"].tolist()\n",
    "uniqueSuperPops = list(set(superPops))\n",
    "uniqueSuperPops.sort()\n",
    "numSuperPops = len(uniqueSuperPops)\n",
    "targetDict = dict(zip(uniqueSuperPops, range(numSuperPops)))\n",
    "superPopArray = np.array([targetDict[p] for p in superPops])\n",
    "\n",
    "# Map super populations to colors.\n",
    "cmap = matplotlib.cm.get_cmap('Spectral')\n",
    "uniqueSuperPopArray = []\n",
    "temp = uniqueSuperPops / (numSuperPops - 1)\n",
    "rgba = cmap(temp)\n",
    "superPopRgb = rgba[:,:3]"
   ]
  },
  {
   "cell_type": "code",
   "execution_count": 32,
   "metadata": {},
   "outputs": [
    {
     "data": {
      "text/plain": [
       "['AFR', 'AMR', 'EAS', 'EUR', 'SAS']"
      ]
     },
     "execution_count": 32,
     "metadata": {},
     "output_type": "execute_result"
    }
   ],
   "source": [
    "uniqueSuperPops"
   ]
  },
  {
   "cell_type": "code",
   "execution_count": 7,
   "metadata": {},
   "outputs": [
    {
     "data": {
      "text/html": [
       "<iframe id=\"igraph\" scrolling=\"no\" style=\"border:none;\" seamless=\"seamless\" src=\"https://plot.ly/~iamuuriwer1/2.embed\" height=\"525px\" width=\"100%\"></iframe>"
      ],
      "text/plain": [
       "<plotly.tools.PlotlyDisplay object>"
      ]
     },
     "execution_count": 7,
     "metadata": {},
     "output_type": "execute_result"
    }
   ],
   "source": [
    "# Gender.\n",
    "genders = df[\"Gender\"]\n",
    "G = (genders == \"male\").values\n",
    "\n",
    "# Load data.\n",
    "embeddedAll = np.load(path + \"data/dimReduc/dualPCA/embeddedAll.npy\")\n",
    "embeddedNum = np.load(path + \"data/dimReduc/dualPCA/embeddedNum.npy\")\n",
    "\n",
    "# Plot.\n",
    "data = list()\n",
    "for count, pop in enumerate(uniquePops):\n",
    "    ind = popArray == count\n",
    "    x, y, z = np.hsplit(embeddedAll[ind,:], 3)\n",
    "    temp = superPopRgb[ind,:]\n",
    "    trace = go.Scatter3d(\n",
    "        x=x,\n",
    "        y=y,\n",
    "        z=z,\n",
    "        name=pop,\n",
    "        mode='markers',\n",
    "        marker=dict(\n",
    "            size=5,\n",
    "            color= [count / numPops] * x.shape[0],                # set color to an array/list of desired values\n",
    "            colorscale=rgb,   # choose a colorscale\n",
    "            opacity=0.5\n",
    "        )\n",
    "    )\n",
    "    data.append(trace)\n",
    "\n",
    "\n",
    "layout = go.Layout(\n",
    "    margin=dict(\n",
    "        l=0,\n",
    "        r=0,\n",
    "        b=0,\n",
    "        t=0\n",
    "    )\n",
    ")\n",
    "\n",
    "fig = go.Figure(data=data, layout=layout)\n",
    "py.iplot(fig, filename='3d-scatter-colorscale')"
   ]
  },
  {
   "cell_type": "code",
   "execution_count": 5,
   "metadata": {},
   "outputs": [
    {
     "data": {
      "text/plain": [
       "['AFR', 'AMR', 'EAS', 'EUR', 'SAS']"
      ]
     },
     "execution_count": 5,
     "metadata": {},
     "output_type": "execute_result"
    }
   ],
   "source": [
    "uniqueSuperPops"
   ]
  }
 ],
 "metadata": {
  "kernelspec": {
   "display_name": "Python 3",
   "language": "python",
   "name": "python3"
  },
  "language_info": {
   "codemirror_mode": {
    "name": "ipython",
    "version": 3
   },
   "file_extension": ".py",
   "mimetype": "text/x-python",
   "name": "python",
   "nbconvert_exporter": "python",
   "pygments_lexer": "ipython3",
   "version": "3.6.7"
  }
 },
 "nbformat": 4,
 "nbformat_minor": 2
}
