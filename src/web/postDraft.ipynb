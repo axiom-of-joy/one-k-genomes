{
 "cells": [
  {
   "cell_type": "markdown",
   "metadata": {},
   "source": [
    "This post is inspired by the most fascinating application of PCA I have yet encountered.\n",
    "\n",
    "\n",
    "Typically, PCA is computed via the eigendecomposition of the scaled sample covariance matrix\n",
    "\\\\[\n",
    "X^T X \\in \\mathbb R^{k \\times k}.\n",
    "\\\\]\n",
    "In the current context, \\\\(k = 81,000,000\\\\) and the sample covariance matrix is far too large to explicitly compute. The simplest technique to compute the principle components of \\\\(X\\\\) is to instead consider the transpose of the scaled covariance matrix\n",
    "\\\\[\n",
    "XX^T \\in \\mathbb R^{n \\times n}.\n",
    "\\\\]\n",
    "The number of samples \\\\(n\\\\) is several orders of magnitude smaller than the dimension of the feature space \\\\(k\\\\) and the matrix \\\\(XX^T\\\\) easily fits in memory. Also note that \\\\(\\mathbf v \\in \\mathbb R^n\\\\) is an eigenvector of \\\\(XX^T\\\\) with eigenvalue \\\\(\\lambda\\\\) if and only if \\\\(X^T \\mathbf v\\\\) is an eigenvector of \\\\(X^TX\\\\) corresponding to the same eigenvalue. In other words, we can calculate the top principal components of \\\\(X^TX\\\\) by finding the top principal components of \\\\(XX^T\\\\) and left-multiplying by \\\\(X^T\\\\). This technique is known as _dual PCA_ and is equivalent to classical multidimensional scaling using Euclidean distance, as described in this [excellent Stack Exchange post](https://stats.stackexchange.com/a/132731) [FIXME]. In the current context, the matrix \\\\(X\\\\) is a massive sparse matrix stored in compressed format in 166 separate files and is far too large to fit in memory. To recover the first \\\\(n\\\\) eigenvectors of \\\\(X^TX\\\\) from the eigenvectors of \\\\(XX^T\\\\), we could carry out a piecewise matrix multiplication by iterating through each file. But since I've already computed the pairwise square Euclidean distance matrix \\\\(D^2\\\\), I can easily compute the top principal components of \\\\(X^TX\\\\) by taking the eigencomposition of\n",
    "\\\\[\n",
    "K = -\\left(I_n - \\frac{\\mathbf 1_n \\mathbf 1_n^T}{n}\\right) \\frac{D^2}{2}\\left(I_n - \\frac{\\mathbf 1_n \\mathbf 1_n^T}{n}\\right),\n",
    "\\\\]\n",
    "as explained in [FIXME]. Here, \\\\(\\mathbf 1_n \\in \\mathbb R^n\\\\) is the so-called \"one vector\" whose entries are all ones, and \\\\(\\mathbf 1_n \\mathbf 1_n^T\\\\) is the \\\\(n\\times n\\\\) matrix whose entries are all ones."
   ]
  },
  {
   "cell_type": "code",
   "execution_count": 7,
   "metadata": {},
   "outputs": [
    {
     "data": {
      "text/html": [
       "<iframe id=\"igraph\" scrolling=\"no\" style=\"border:none;\" seamless=\"seamless\" src=\"https://plot.ly/~iamuuriwer1/2.embed\" height=\"525px\" width=\"100%\"></iframe>"
      ],
      "text/plain": [
       "<plotly.tools.PlotlyDisplay object>"
      ]
     },
     "execution_count": 7,
     "metadata": {},
     "output_type": "execute_result"
    }
   ],
   "source": [
    "import plotly.plotly as py\n",
    "import plotly.graph_objs as go\n",
    "\n",
    "import numpy as np\n",
    "\n",
    "x, y, z = np.random.multivariate_normal(np.array([0,0,0]), np.eye(3), 400).transpose()\n",
    "\n",
    "trace1 = go.Scatter3d(\n",
    "    x=x,\n",
    "    y=y,\n",
    "    z=z,\n",
    "    mode='markers',\n",
    "    marker=dict(\n",
    "        size=12,\n",
    "        color=z,                # set color to an array/list of desired values\n",
    "        colorscale='Viridis',   # choose a colorscale\n",
    "        opacity=0.8\n",
    "    )\n",
    ")\n",
    "\n",
    "data = [trace1]\n",
    "layout = go.Layout(\n",
    "    margin=dict(\n",
    "        l=0,\n",
    "        r=0,\n",
    "        b=0,\n",
    "        t=0\n",
    "    )\n",
    ")\n",
    "fig = go.Figure(data=data, layout=layout)\n",
    "py.iplot(fig, filename='3d-scatter-colorscale')"
   ]
  }
 ],
 "metadata": {
  "kernelspec": {
   "display_name": "Python 3",
   "language": "python",
   "name": "python3"
  },
  "language_info": {
   "codemirror_mode": {
    "name": "ipython",
    "version": 3
   },
   "file_extension": ".py",
   "mimetype": "text/x-python",
   "name": "python",
   "nbconvert_exporter": "python",
   "pygments_lexer": "ipython3",
   "version": "3.6.7"
  }
 },
 "nbformat": 4,
 "nbformat_minor": 2
}
